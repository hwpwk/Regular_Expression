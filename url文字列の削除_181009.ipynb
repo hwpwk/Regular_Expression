{
 "cells": [
  {
   "cell_type": "markdown",
   "metadata": {},
   "source": [
    "置換後の文字列 = re.sub(正規表現, 置換する文字列, 置換される文字列)"
   ]
  },
  {
   "cell_type": "code",
   "execution_count": 1,
   "metadata": {
    "collapsed": true
   },
   "outputs": [],
   "source": [
    "import re"
   ]
  },
  {
   "cell_type": "code",
   "execution_count": 2,
   "metadata": {},
   "outputs": [],
   "source": [
    "text = '参考サイトはこちらです。https://ja.wikipedia.org/wiki/%E6%A9%9F%E6%A2%B0%E5%AD%A6%E7%BF%92 こちらを参照する。'\n",
    "text2 = 'こちらは「http」のホームページです。http://cocodrips.hateblo.jp/entry/2017/07/30/185430#1-DataFramequery%E3%81%A7%E5%8F%96%E3%82%8A%E5%87%BA%E3%81%99'"
   ]
  },
  {
   "cell_type": "code",
   "execution_count": 3,
   "metadata": {},
   "outputs": [
    {
     "data": {
      "text/plain": [
       "'参考サイトはこちらです。 こちらを参照する。'"
      ]
     },
     "execution_count": 3,
     "metadata": {},
     "output_type": "execute_result"
    }
   ],
   "source": [
    "re.sub('https?://[\\w/:%#\\$&\\?\\(\\)~\\.=\\+\\-]+', '',  text)"
   ]
  },
  {
   "cell_type": "code",
   "execution_count": 4,
   "metadata": {},
   "outputs": [
    {
     "data": {
      "text/plain": [
       "'こちらは「http」のホームページです。'"
      ]
     },
     "execution_count": 4,
     "metadata": {},
     "output_type": "execute_result"
    }
   ],
   "source": [
    "re.sub('https?://[\\w/:%#\\$&\\?\\(\\)~\\.=\\+\\-]+', '',  text2)"
   ]
  },
  {
   "cell_type": "code",
   "execution_count": 5,
   "metadata": {},
   "outputs": [
    {
     "data": {
      "text/plain": [
       "'参考サイトはこちらです。 こちらを参照する。'"
      ]
     },
     "execution_count": 5,
     "metadata": {},
     "output_type": "execute_result"
    }
   ],
   "source": [
    "re.sub('(http|https)://([-\\w]+\\.)+[-\\w]+(/[-\\w./?%&=]*)?',  \"\",  text)"
   ]
  },
  {
   "cell_type": "code",
   "execution_count": 6,
   "metadata": {},
   "outputs": [
    {
     "data": {
      "text/plain": [
       "'こちらは「http」のホームページです。#1-DataFramequery%E3%81%A7%E5%8F%96%E3%82%8A%E5%87%BA%E3%81%99'"
      ]
     },
     "execution_count": 6,
     "metadata": {},
     "output_type": "execute_result"
    }
   ],
   "source": [
    "re.sub('(http|https)://([-\\w]+\\.)+[-\\w]+(/[-\\w./?%&=]*)?',  \"\",  text2)"
   ]
  },
  {
   "cell_type": "code",
   "execution_count": 9,
   "metadata": {
    "collapsed": true
   },
   "outputs": [],
   "source": [
    "# url文字列の削除\n",
    "# だいたいは置換後の文字列を変数に格納して使っていく\n",
    "text = re.sub('https?://[\\w/:%#\\$&\\?\\(\\)~\\.=\\+\\-]+', '',  text)"
   ]
  },
  {
   "cell_type": "code",
   "execution_count": 10,
   "metadata": {
    "scrolled": true
   },
   "outputs": [
    {
     "data": {
      "text/plain": [
       "'参考サイトはこちらです。 こちらを参照する。'"
      ]
     },
     "execution_count": 10,
     "metadata": {},
     "output_type": "execute_result"
    }
   ],
   "source": [
    "text"
   ]
  },
  {
   "cell_type": "code",
   "execution_count": null,
   "metadata": {
    "collapsed": true
   },
   "outputs": [],
   "source": []
  }
 ],
 "metadata": {
  "kernelspec": {
   "display_name": "Python 3",
   "language": "python",
   "name": "python3"
  },
  "language_info": {
   "codemirror_mode": {
    "name": "ipython",
    "version": 3
   },
   "file_extension": ".py",
   "mimetype": "text/x-python",
   "name": "python",
   "nbconvert_exporter": "python",
   "pygments_lexer": "ipython3",
   "version": "3.6.3"
  }
 },
 "nbformat": 4,
 "nbformat_minor": 2
}
